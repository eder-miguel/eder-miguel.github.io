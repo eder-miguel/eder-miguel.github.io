{
 "cells": [
  {
   "cell_type": "markdown",
   "id": "fd672b68-375b-43dd-bd9c-7c055fffbd16",
   "metadata": {},
   "source": [
    "---\n",
    "title: \"OCR in Python\"\n",
    "description: \"Experimenting with OCR in Python\"\n",
    "date: 2024-12-24\n",
    "categories: [\"posts\", \"ocr\", \"python\"]\n",
    "format:\n",
    "  html: \n",
    "    code-fold: true\n",
    "---"
   ]
  },
  {
   "cell_type": "markdown",
   "id": "f584275e",
   "metadata": {},
   "source": [
    "## "
   ]
  },
  {
   "cell_type": "markdown",
   "id": "b203ef1e",
   "metadata": {},
   "source": [
    "## Resources\n",
    "\n",
    "- [Stackoverflow](https://stackoverflow.com/questions/69244218/how-to-run-a-jupyter-notebook-through-a-remote-server-on-local-machine)\n",
    "- [Found in Hamel's blog](https://hamel.dev/notes/jupyter/Best%20Way%20To%20Launch%20Jupyter%20On%20A%20Remote%20Server.html)\n",
    "- [Similar instructions](https://fizzylogic.nl/2017/11/06/edit-jupyter-notebooks-over-ssh/) found in [Willem's Fizzy Logic](https://fizzylogic.nl/)\n",
    "- [A more advanced](https://dbusteed.github.io/setup-jupyter-lab-on-remote-server/) approach using HTTPS by [Davis Busteed](https://dbusteed.github.io/)"
   ]
  }
 ],
 "metadata": {
  "kernelspec": {
   "display_name": "Python [conda env:blog]",
   "language": "python",
   "name": "conda-env-blog-py"
  },
  "language_info": {
   "codemirror_mode": {
    "name": "ipython",
    "version": 3
   },
   "file_extension": ".py",
   "mimetype": "text/x-python",
   "name": "python",
   "nbconvert_exporter": "python",
   "pygments_lexer": "ipython3",
   "version": "3.13.0"
  }
 },
 "nbformat": 4,
 "nbformat_minor": 5
}
