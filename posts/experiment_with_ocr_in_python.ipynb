{
 "cells": [
  {
   "cell_type": "markdown",
   "id": "fd672b68-375b-43dd-bd9c-7c055fffbd16",
   "metadata": {},
   "source": [
    "---\n",
    "title: \"OCR in Python\"\n",
    "description: \"Experimenting with OCR in Python\"\n",
    "date: 2024-12-24\n",
    "categories: [\"posts\", \"ocr\", \"python\"]\n",
    "format:\n",
    "  html: \n",
    "    code-fold: true\n",
    "---"
   ]
  },
  {
   "cell_type": "markdown",
   "id": "f584275e",
   "metadata": {},
   "source": [
    "## "
   ]
  },
  {
   "cell_type": "markdown",
   "id": "b203ef1e",
   "metadata": {},
   "source": [
    "## Resources\n",
    "\n",
    "- https://gitlab.gnome.org/World/OpenPaperwork/pyocr\n",
    "- https://textract.readthedocs.io/en/stable/\n",
    "- https://tesseract-ocr.github.io/tessdoc/\n",
    "- https://github.com/tesseract-ocr/tessdoc\n",
    "- https://stackabuse.com/pytesseract-simple-python-optical-character-recognition/\n",
    "- https://pypi.org/project/pytesseract/"
   ]
  }
 ],
 "metadata": {
  "kernelspec": {
   "display_name": "Python [conda env:blog]",
   "language": "python",
   "name": "conda-env-blog-py"
  },
  "language_info": {
   "codemirror_mode": {
    "name": "ipython",
    "version": 3
   },
   "file_extension": ".py",
   "mimetype": "text/x-python",
   "name": "python",
   "nbconvert_exporter": "python",
   "pygments_lexer": "ipython3",
   "version": "3.13.0"
  }
 },
 "nbformat": 4,
 "nbformat_minor": 5
}
