{
 "cells": [
  {
   "cell_type": "markdown",
   "metadata": {},
   "source": [
    "---\n",
    "title: \"Show the token of a Jupyter server\"\n",
    "description: \"How to obtain the token of a running Jupyter server\"\n",
    "categories: [\"notes\", \"jupyter\"]\n",
    "format:\n",
    "  html: \n",
    "    code-fold: true\n",
    "---"
   ]
  },
  {
   "cell_type": "markdown",
   "metadata": {},
   "source": [
    "## TL;DR\n",
    "\n",
    "SSH into the remote server and run:\n",
    "```bash\n",
    "jupyter server list\n",
    "```\n",
    "\n",
    "This will show the list of running Jupyter servers together with the token.\n",
    "\n",
    "Note that it is possible to create a configuration file for Jupyter, which may overwrite certain options, e.g. specify a password instead of a token, in which case no token would be listed by the command above."
   ]
  },
  {
   "cell_type": "markdown",
   "metadata": {},
   "source": [
    "## Breakdown\n",
    "\n",
    "1. `jupyter` can be run as a system command, followed by the specific *subcommand* and *options*.\n",
    "2. Use `jupyter --help`  to obtain a detailed list of options. At the time of writing this the available subcommands are listed at the bottom of the help as `Available subcommands: ....`.\n",
    "3. The token obtained here is often requested when connecting remotely to the Jupyter server, as explained in this [note](running_jupyter_on_remote_server.ipynb)."
   ]
  },
  {
   "cell_type": "markdown",
   "metadata": {},
   "source": [
    "## Resources\n",
    "\n",
    "- [Official Jupyter docs](https://docs.jupyter.org/en/latest/use/jupyter-command.html)"
   ]
  }
 ],
 "metadata": {
  "language_info": {
   "name": "python"
  }
 },
 "nbformat": 4,
 "nbformat_minor": 2
}
