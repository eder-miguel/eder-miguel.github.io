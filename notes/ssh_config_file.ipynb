{
 "cells": [
  {
   "cell_type": "markdown",
   "id": "fd672b68-375b-43dd-bd9c-7c055fffbd16",
   "metadata": {},
   "source": [
    "---\n",
    "title: \"SSH configuration file\"\n",
    "description: \"How to configure a remote host in the SSH config file\"\n",
    "categories: [\"notes\", \"ssh\"]\n",
    "format:\n",
    "  html: \n",
    "    code-fold: true\n",
    "---"
   ]
  },
  {
   "cell_type": "markdown",
   "id": "3a733d61",
   "metadata": {},
   "source": [
    "## TL;DR\n",
    "\n",
    "To add a new connection to the SSH config file (`~/.ssh/config`), open it and write the following:\n",
    "\n",
    "```bash\n",
    "Host [hostname_alias]\n",
    "  HostName [hostname]\n",
    "  User [username]\n",
    "  #PubKeyAuthentication yes # If accessing via SSH\n",
    "  #IdentityFile ~/.ssh/id_ed25519 # point to the private SSH key if available\n",
    "  #OTHER_SSH_OPTION value # General format of SSH options\n",
    "```\n",
    "\n",
    "Then, from terminal, executing `ssh [hostname_alias]` will try to set a connection to the specified `HostName` using the specified `User`."
   ]
  },
  {
   "cell_type": "markdown",
   "id": "012c24d5",
   "metadata": {},
   "source": [
    "## Breakdown\n",
    "\n",
    "1. Each section starting with `Host` defines a connection. The lines below this statement define properties of the specific connection.\n",
    "2. `[hostname_alias]` specifies an alias for the connection locally. Different aliases may specify the same `HostName`, e.g. to handle different users on a remote server.\n",
    "3. `HostName [hostname]` specifies the target `hostname`. It can be an IP address (`86.87.88.89`) or a text string (`github.com`). In the first case no domain resolution is necessary. In the second, the internal `/etc/hosts` file will be queried and if no match is found a DNS query will be performed.\n",
    "4. `User [username]` indicates the username to use in that SSH connection. If not not defined, it defaults to the current username.\n",
    "\n",
    "A real example I use to connect to my home Raspberry Pi:\n",
    "``` bash\n",
    "Host raspberry\n",
    "  Hostname 192.168.X.Y\n",
    "  PubKeyAuthentication yes #\n",
    "  IdentityFile ~/.ssh/id_ed25519\n",
    "```"
   ]
  },
  {
   "cell_type": "markdown",
   "id": "b203ef1e",
   "metadata": {},
   "source": [
    "## Resources\n",
    "\n",
    "- [Useful summary](https://linuxize.com/post/using-the-ssh-config-file/) of SSH config file format and options.\n",
    "- [Stackoverflow thread](https://superuser.com/questions/1659959/ssh-config-vs-etc-hosts) on the interaction between `/etc/hosts` and `~/.ssh/config`."
   ]
  }
 ],
 "metadata": {
  "kernelspec": {
   "display_name": "Python [conda env:blog]",
   "language": "python",
   "name": "conda-env-blog-py"
  },
  "language_info": {
   "codemirror_mode": {
    "name": "ipython",
    "version": 3
   },
   "file_extension": ".py",
   "mimetype": "text/x-python",
   "name": "python",
   "nbconvert_exporter": "python",
   "pygments_lexer": "ipython3",
   "version": "3.13.0"
  }
 },
 "nbformat": 4,
 "nbformat_minor": 5
}
