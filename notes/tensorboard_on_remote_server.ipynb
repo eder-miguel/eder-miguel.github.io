{
 "cells": [
  {
   "cell_type": "markdown",
   "id": "fd672b68-375b-43dd-bd9c-7c055fffbd16",
   "metadata": {},
   "source": [
    "---\n",
    "title: \"Tensorboard on a remote server\"\n",
    "description: \"How to run Tensorboard on a remote server and access it locally\"\n",
    "categories: [\"notes\", \"jupyter\", \"tensorboard\"]\n",
    "format:\n",
    "  html: \n",
    "    code-fold: true\n",
    "---"
   ]
  },
  {
   "cell_type": "markdown",
   "id": "3a733d61",
   "metadata": {},
   "source": [
    "## TL;DR\n",
    "\n",
    "SSH into the remote server and run Jupyter:\n",
    "```bash\n",
    "ssh [user@remote]\n",
    "tensorboard --logdir [path_to_logdir] --port=[port_in_remote]\n",
    "```\n",
    "\n",
    "On the local machine, create an SSH tunnel to forward the remote port to your local machine:\n",
    "```bash\n",
    "ssh -NfL localhost:[port_in_local]:localhost:[port_in_remote] [user@remote]\n",
    "```\n",
    "\n",
    "Finally, on your local browser, access `http://localhost:[port_in_local]`."
   ]
  },
  {
   "cell_type": "markdown",
   "id": "012c24d5",
   "metadata": {},
   "source": [
    "## Breakdown\n",
    "\n",
    "1. Run Tensorboard in the remote machine specifying the desired port where the service will be exposed.\n",
    "2. The `ssh` command is explained in details in this other [note](running_jupyter_on_remote_server.ipynb) on how to run Jupyter on a remote server."
   ]
  },
  {
   "cell_type": "markdown",
   "id": "b203ef1e",
   "metadata": {},
   "source": [
    "## Resources\n",
    "\n",
    "- [Stackoverflow thread](https://stackoverflow.com/questions/37987839/how-can-i-run-tensorboard-on-a-remote-server) with this instructions and some additional ideas and references."
   ]
  }
 ],
 "metadata": {
  "kernelspec": {
   "display_name": "Python [conda env:blog]",
   "language": "python",
   "name": "conda-env-blog-py"
  },
  "language_info": {
   "codemirror_mode": {
    "name": "ipython",
    "version": 3
   },
   "file_extension": ".py",
   "mimetype": "text/x-python",
   "name": "python",
   "nbconvert_exporter": "python",
   "pygments_lexer": "ipython3",
   "version": "3.13.0"
  }
 },
 "nbformat": 4,
 "nbformat_minor": 5
}
