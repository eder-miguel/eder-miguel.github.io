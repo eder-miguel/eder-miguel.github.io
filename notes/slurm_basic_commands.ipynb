{
 "cells": [
  {
   "cell_type": "markdown",
   "metadata": {},
   "source": [
    "---\n",
    "title: \"SLURM basic commands\"\n",
    "description: \"Some basic commands to run jobs in SLURM\"\n",
    "categories: [\"notes\", \"slurm\", \"HPC\"]\n",
    "format:\n",
    "  html: \n",
    "    code-fold: true\n",
    "---"
   ]
  },
  {
   "cell_type": "markdown",
   "metadata": {},
   "source": [
    "## TL;DR"
   ]
  },
  {
   "cell_type": "markdown",
   "metadata": {},
   "source": [
    "### Basic SLURM job script\n",
    "\n",
    "Write the following SLURM directives and code in a file, e.g. job `script.sh`:\n",
    "\n",
    "```bash\n",
    "#!/bin/bash\n",
    "\n",
    "#SBATCH --mail-type=ALL                # Type of events triggering email\n",
    "#SBATCH --mail-user=[email_address]    # Email address for notifications\n",
    "#SBATCH --job-name=[name_for_job]      # Job name\n",
    "#SBATCH --time=50:00:00                # Max. runtime, 50 hours in this case\n",
    "#SBATCH --mem=128G                     # Define amout of RAM, 128 gigabytes here\n",
    "#SBATCH --partition=[partition_name]   # Partition to use\n",
    "#SBATCH --gres=gpu:1                   # Generic resource specification, here a node with 1 GPU\n",
    "#SBATCH --constraint=A10               # Additional constraint: only nodes with A10 feature are valid\n",
    "#SBATCH --no-requeue                   # Do not requeue job if failed\n",
    "\n",
    "\n",
    "## Bash code to execute\n",
    "script=\"$HOME/script.py\" # A script to be run\n",
    "data_path=\"$HOME/some_data.txt\" # Input data\n",
    "out_path=\"$PWD\" # Path for output\n",
    "\n",
    "## Execute\n",
    "srun /usr/bin/nvidia-smi # E.g. to validate that the node has the required GPU\n",
    "srun python -c 'import torch; print(torch.cuda.is_available())' # To validate that Pytorch is correctly detected\n",
    "srun python $script $data_path $out_path\n",
    "```\n",
    "\n",
    "Note that lines starting with `#SBATCH` are SLURM directives that will be interpreted by SLRUM.\n",
    "\n",
    "Then, run it with the `sbatch` SLURM command:\n",
    "\n",
    "```bash\n",
    "sbatch script.sh\n",
    "```"
   ]
  },
  {
   "cell_type": "markdown",
   "metadata": {
    "vscode": {
     "languageId": "plaintext"
    }
   },
   "source": [
    "### Check status of running jobs\n",
    "\n",
    "The SLURM command to list running jobs and their status is `squeue`. In practice there are too many jobs and some filtering must be applied, often user-based. This can be done using standard `grep` with the username of interest:\n",
    "```bash\n",
    "squeue | grep [username]\n",
    "```\n",
    "or using the specific options of `squeue`:\n",
    "```bash\n",
    "squeue --u [username] # or `whoami` instead of [username]\n",
    "```\n",
    "\n",
    "For more information go [here](https://slurm.schedmd.com/squeue.html)."
   ]
  },
  {
   "cell_type": "markdown",
   "metadata": {},
   "source": [
    "### Cancel a running job\n",
    "\n",
    "After running a job with `sbatch` SLURM will output the job ID of the running job. To cancel the job use `scancel`:\n",
    "```bash\n",
    "scancel [jobID]\n",
    "```"
   ]
  },
  {
   "cell_type": "markdown",
   "metadata": {},
   "source": [
    "### List available nodes and features\n",
    "\n",
    "Different jobs may have different requirements in terms of memory, cores, GPUs... In the job script we have to specify these requirements as generic resources (via `--gres`) or constraints (via `--constraints`). To list the available generic resources and features (used to specify constraints) we use `sinfo`:\n",
    "```bash\n",
    "sinfo -o '%25N %5c %10m %40f %G'\n",
    "```\n",
    "where\n",
    "\n",
    "- `-o` is the option to specify the output format\n",
    "- `'%25N %5c %10m %40f %G'` is the format specification:\n",
    "  - number after `%` indicates the max. length for that field\n",
    "  - `%N` to show node names\n",
    "  - `%c` to show number of cores\n",
    "  - `%m` to show available RAM memory\n",
    "  - `%f` to show available features (which can be specified in the `--constraints` option of a job script)\n",
    "  - `%G` to show available generic resources (used in the `--gres` option of a job script)\n",
    "\n",
    "`sinfo` provides lots of information about the cluster. For more information and options go [here](https://slurm.schedmd.com/sinfo.html)."
   ]
  },
  {
   "cell_type": "markdown",
   "metadata": {},
   "source": [
    "## Resources\n",
    "\n",
    "- [Official SLURM documentation](https://slurm.schedmd.com/documentation.html)"
   ]
  },
  {
   "cell_type": "markdown",
   "metadata": {},
   "source": []
  }
 ],
 "metadata": {
  "language_info": {
   "name": "python"
  }
 },
 "nbformat": 4,
 "nbformat_minor": 2
}
