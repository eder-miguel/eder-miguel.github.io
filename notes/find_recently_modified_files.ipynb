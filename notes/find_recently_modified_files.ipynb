{
 "cells": [
  {
   "cell_type": "markdown",
   "metadata": {},
   "source": [
    "---\n",
    "title: \"Using `find` to search for recently modified files\"\n",
    "description: \"How to search for recently modified files\"\n",
    "categories: [\"notes\", \"bash\", \"find\"]\n",
    "format:\n",
    "  html: \n",
    "    code-fold: true\n",
    "---"
   ]
  },
  {
   "cell_type": "markdown",
   "metadata": {},
   "source": [
    "## TL;DR\n",
    "\n",
    "We can search for recently modified files via CLI:\n",
    "```bash\n",
    "find [path] -mtime -1 # Search for files modified 1 day or less ago\n",
    "find [path] -mmin -60 # Search for files modified 60 minutes or less ago\n",
    "```"
   ]
  },
  {
   "cell_type": "markdown",
   "metadata": {},
   "source": [
    "## Real-world example\n",
    "\n",
    "While using a webservice built on top of docker, it was unclear where certain files were stored. After some time trying to find the exact location through the documentation I used this approach to create a file using the webservice and then looking for any files created within the last few minutes. It turned out to be the most efficient solution, so keep it in mind!"
   ]
  },
  {
   "cell_type": "markdown",
   "metadata": {},
   "source": [
    "## Resources\n",
    "\n",
    "- [Official `find` man-page documentation](https://www.man7.org/linux/man-pages/man1/find.1.html).\n",
    "- [Stackoverflow thread](https://stackoverflow.com/questions/16085958/find-the-files-that-have-been-changed-in-last-24-hours) with an example."
   ]
  },
  {
   "cell_type": "markdown",
   "metadata": {},
   "source": []
  }
 ],
 "metadata": {
  "language_info": {
   "name": "python"
  }
 },
 "nbformat": 4,
 "nbformat_minor": 2
}
