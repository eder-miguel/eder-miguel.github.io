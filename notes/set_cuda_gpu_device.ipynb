{
 "cells": [
  {
   "cell_type": "markdown",
   "id": "fd672b68-375b-43dd-bd9c-7c055fffbd16",
   "metadata": {},
   "source": [
    "---\n",
    "title: \"Specify GPU device\"\n",
    "description: \"How to specify GPU device\"\n",
    "categories: [\"notes\", \"Pytorch\", \"Jupyter\", \"CUDA\"]\n",
    "format:\n",
    "  html: \n",
    "    code-fold: true\n",
    "---"
   ]
  },
  {
   "cell_type": "markdown",
   "id": "3a733d61",
   "metadata": {},
   "source": [
    "## TL;DR\n",
    "\n",
    "A generic solution to specify the GPU device(s) to use is to set the `CUDA_VISIBLE_DEVICES` environment variable. When running from terminal:\n",
    "```bash\n",
    "CUDA_VISIBLE_DEVICES=0,1 [executable] [params]\n",
    "```\n",
    "\n",
    "When running inside a Jupyter notebook, use the following snippet. To avoid potential conflicts, use this before any CUDA/GPU-related modules are imported:\n",
    "```python\n",
    "import os\n",
    "os.environ[\"CUDA_VISIBLE_DEVICES\"] = \"0,1\"\n",
    "```"
   ]
  },
  {
   "cell_type": "markdown",
   "id": "012c24d5",
   "metadata": {},
   "source": [
    "## Breakdown\n",
    "\n",
    "1. Using `CUDA_VISIBLE_DEVICES` will restrict the devices visible to the executed program. Internally, CUDA device IDs will be remmaped, i.e. `cuda:0` will be mapped to the first visible device, which could could be the second one if `CUDA_VISIBLE_DEVICES=1`.\n",
    "2. `CUDA_DEVICE_ORDER=PCI_BUS_ID` or `os.environ[\"CUDA_DEVICE_ORDER\"] = \"PCI_BUS_ID\"` ensures that devices are always listed according to their PCI bus ID, avoiding potential non-determinism when listing GPU devices."
   ]
  },
  {
   "cell_type": "markdown",
   "id": "b203ef1e",
   "metadata": {},
   "source": [
    "## Resources\n",
    "\n",
    "- [Post](https://developer.nvidia.com/blog/cuda-pro-tip-control-gpu-visibility-cuda_visible_devices) in NVIDIA technical blog.\n",
    "- [Stackoverflow thread](https://stackoverflow.com/questions/37893755/tensorflow-set-cuda-visible-devices-within-jupyter) specifically for Jupyter notebooks. Uses the `CUDA_DEVICE_ORDER` environment variable.\n",
    "- [Pytorch documentation](https://pytorch.org/docs/stable/generated/torch.cuda.set_device.html#torch.cuda.set_device) on `torch.cuda.set_device()` method (which also indicates using `CUDA_VISIBLE_DEVICES` is usually a better option)."
   ]
  }
 ],
 "metadata": {
  "kernelspec": {
   "display_name": "Python [conda env:blog]",
   "language": "python",
   "name": "conda-env-blog-py"
  },
  "language_info": {
   "codemirror_mode": {
    "name": "ipython",
    "version": 3
   },
   "file_extension": ".py",
   "mimetype": "text/x-python",
   "name": "python",
   "nbconvert_exporter": "python",
   "pygments_lexer": "ipython3",
   "version": "3.13.0"
  }
 },
 "nbformat": 4,
 "nbformat_minor": 5
}
