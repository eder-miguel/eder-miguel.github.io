{
 "cells": [
  {
   "cell_type": "markdown",
   "id": "fd672b68-375b-43dd-bd9c-7c055fffbd16",
   "metadata": {},
   "source": [
    "---\n",
    "title: \"Setup Jupyterlab on conda environments\"\n",
    "description: \"My go-to solution to setup Jupyterlab on conda environments\"\n",
    "date: 2024-12-01\n",
    "categories: [\"notes\", \"jupyter\", \"conda\"]\n",
    "format:\n",
    "  html: \n",
    "    code-fold: true\n",
    "---"
   ]
  },
  {
   "cell_type": "markdown",
   "id": "c21990d4",
   "metadata": {},
   "source": [
    "Over the years I have faced many times the task of setting up several virtual environments that would be used from Jupyter notebooks. Initially I resorted to the \"simple\" but pretty horrible idea of installing Jupyter in every virtual environment. This quickly lead to friction since using a different virtual environment required starting different jupyte"
   ]
  }
 ],
 "metadata": {
  "kernelspec": {
   "display_name": "Python [conda env:blog]",
   "language": "python",
   "name": "conda-env-blog-py"
  },
  "language_info": {
   "codemirror_mode": {
    "name": "ipython",
    "version": 3
   },
   "file_extension": ".py",
   "mimetype": "text/x-python",
   "name": "python",
   "nbconvert_exporter": "python",
   "pygments_lexer": "ipython3",
   "version": "3.13.0"
  }
 },
 "nbformat": 4,
 "nbformat_minor": 5
}
