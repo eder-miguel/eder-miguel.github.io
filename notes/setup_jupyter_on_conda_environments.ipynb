{
 "cells": [
  {
   "cell_type": "markdown",
   "id": "fd672b68-375b-43dd-bd9c-7c055fffbd16",
   "metadata": {},
   "source": [
    "---\n",
    "title: \"Setup Jupyterlab on conda environments\"\n",
    "description: \"My template to setup Jupyterlab and conda environments\"\n",
    "categories: [\"notes\", \"jupyter\", \"conda\"]\n",
    "format:\n",
    "  html: \n",
    "    code-fold: true\n",
    "---"
   ]
  },
  {
   "cell_type": "markdown",
   "id": "3a733d61",
   "metadata": {},
   "source": [
    "## TL;DR\n",
    "\n",
    "In the base environment:\n",
    "```bash\n",
    "conda install pip ipympl jupyterlab nb_conda_kernels jupyter_contrib_nbextensions jupyterlab_widgets\n",
    "```\n",
    "\n",
    "Then, for each virtual environment that should be available in Jupyter:\n",
    "```bash\n",
    "conda create -n [env_name] python==[required python version] pip\n",
    "conda activate [env_name]\n",
    "conda install ipykernel ipympl ipywidgets\n",
    "```"
   ]
  },
  {
   "cell_type": "markdown",
   "id": "e615efb8",
   "metadata": {},
   "source": [
    "## Breakdown\n",
    "\n",
    "1. As an alternative, one could install a separate Jupyter instance on each virtual environment. In my experience it is tedious and error prone. For me the approach above works best.\n",
    "2. The `nb_conda_kernels` extension enables access to individual virtual environments from the Jupyter instance installed in the `base` environent.\n",
    "3. Adding `ipykernel` allows the virtual environment to be accessible by Jupyter.\n",
    "4. Jupyter is always started in the `base` environment. Then, each individual notebook will use one of the installed environments.\n",
    "5. I also install additional packages such as `jupyter_contrib_extensions` and `jupyterlab_widgets`, which I use in most of my projects."
   ]
  },
  {
   "cell_type": "markdown",
   "id": "b203ef1e",
   "metadata": {},
   "source": [
    "## Resources\n",
    "- `nb_conda_kernels` [here](https://github.com/anaconda/nb_conda_kernels)\n",
    "- `ipykernel` [here](https://github.com/ipython/ipykernel)\n",
    "- [Post](https://towardsdatascience.com/how-to-set-up-anaconda-and-jupyter-notebook-the-right-way-de3b7623ea4a) where I found out about this approach first"
   ]
  }
 ],
 "metadata": {
  "kernelspec": {
   "display_name": "Python [conda env:blog]",
   "language": "python",
   "name": "conda-env-blog-py"
  },
  "language_info": {
   "codemirror_mode": {
    "name": "ipython",
    "version": 3
   },
   "file_extension": ".py",
   "mimetype": "text/x-python",
   "name": "python",
   "nbconvert_exporter": "python",
   "pygments_lexer": "ipython3",
   "version": "3.13.0"
  }
 },
 "nbformat": 4,
 "nbformat_minor": 5
}
