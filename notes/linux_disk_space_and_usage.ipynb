{
 "cells": [
  {
   "cell_type": "markdown",
   "id": "fd672b68-375b-43dd-bd9c-7c055fffbd16",
   "metadata": {},
   "source": [
    "---\n",
    "title: \"Disk space and usage in Linux\"\n",
    "description: \"Using `du` and `df` commands to collect disk information in Linux\"\n",
    "categories: [\"notes\", \"Linux\"]\n",
    "format:\n",
    "  html: \n",
    "    code-fold: true\n",
    "---"
   ]
  },
  {
   "cell_type": "markdown",
   "id": "3a733d61",
   "metadata": {},
   "source": [
    "## TL;DR\n",
    "\n",
    "To check the disk space use `df` (for *disk free`):\n",
    "```bash\n",
    "$ df -h\n",
    "```\n",
    "This will list mounted drives and list the directory where they are mounted, together with the total, used and available space in human readable form.\n",
    "\n",
    "To check how much space a given directory and its subdirectories or files take, use `du` (for *disk usage*):\n",
    "```bash\n",
    "du [path_to_directory] -h -d [depth]\n",
    "```\n",
    "\n",
    "For example:\n",
    "```bash\n",
    "$ du . -h -d 2 -a\n",
    "\n",
    "8,0K\t./posts\n",
    "52K\t    ./notes\n",
    "4,0K\t./README.md\n",
    "8,0K\t./publications.qmd\n",
    "142M\t.\n",
    "```\n",
    "This will list all (`-a`) directories and files in the current directory (`.`), and one level below (`-d 2`) together with the amount of disk space they take in human readable form (`-h`)."
   ]
  },
  {
   "cell_type": "markdown",
   "id": "012c24d5",
   "metadata": {},
   "source": [
    "## Breakdown\n",
    "\n",
    "1. As usual with Linux commands, the built-in help is the best source of truth: `du --help` or `df --help` to obtain all available options.\n",
    "2. In both commands `-h` is short for human-readable, which for me is a must unless the goal is to pipe the output to some other tool.\n",
    "3. In the case of `du` another quite useful options is `--time` which adds the date and time the file or directory was last modified.\n",
    "\n",
    "For example:\n",
    "```bash\n",
    "$ du . -h -d 1 -a --time\n",
    "\n",
    "8,0K\t2024-12-26 13:55\t./posts\n",
    "52K     2024-12-27 12:11\t./notes\n",
    "4,0K\t2024-12-23 12:52\t./README.md\n",
    "8,0K\t2024-12-23 12:52\t./publications.qmd\n",
    "142M\t2024-12-27 12:11\t.\n",
    "```"
   ]
  },
  {
   "cell_type": "markdown",
   "id": "b203ef1e",
   "metadata": {},
   "source": [
    "## Resources\n",
    "\n",
    "- [`du` command](https://github.com/bobbyiliev/101-linux-commands-ebook/blob/main/ebook/en/content/084-the-du-command.md) explained in *101 Linux commands e-book*\n",
    "- [`df` command](https://github.com/bobbyiliev/101-linux-commands-ebook/blob/main/ebook/en/content/010-the-df-command.md) explained in *101 Linux commands e-book*\n",
    "- [Post](https://www.redhat.com/en/blog/du-command-options) about `du` in [redhat.com](https://www.redhat.com).\n",
    "- [Post](https://www.redhat.com/en/blog/linux-df-command) about `df` in [redhat.com](https://www.redhat.com)."
   ]
  },
  {
   "cell_type": "markdown",
   "id": "7b8517a8",
   "metadata": {},
   "source": []
  }
 ],
 "metadata": {
  "kernelspec": {
   "display_name": "Python [conda env:torch]",
   "language": "python",
   "name": "conda-env-torch-py"
  },
  "language_info": {
   "codemirror_mode": {
    "name": "ipython",
    "version": 3
   },
   "file_extension": ".py",
   "mimetype": "text/x-python",
   "name": "python",
   "nbconvert_exporter": "python",
   "pygments_lexer": "ipython3",
   "version": "3.12.3"
  }
 },
 "nbformat": 4,
 "nbformat_minor": 5
}
