{
 "cells": [
  {
   "cell_type": "markdown",
   "metadata": {},
   "source": [
    "---\n",
    "title: \"SSH configuration for Git repository\"\n",
    "description: \"How to configure SSH access to Git repository\"\n",
    "categories: [\"notes\", \"git\", \"ssh\"]\n",
    "format:\n",
    "  html: \n",
    "    code-fold: true\n",
    "---"
   ]
  },
  {
   "cell_type": "markdown",
   "metadata": {},
   "source": [
    "## TL;DR\n",
    "\n",
    "Generate SSH key and add to SSH agent in the local machine:\n",
    "```bash\n",
    "ssh-keygen -t ed25519 -C \"sample.mail@gmail.com\" # Specify appropiate key name when prompted\n",
    "eval \"$(ssh-agent -s)\"\n",
    "ssh-add ~/.ssh/[key_name]\n",
    "```\n",
    "\n",
    "At this point, copy and paste the public key to your repo's SSH key manager:\n",
    "```bash\n",
    "cat ~/.ssh/[key_name].pub # Copy the output of this command and paste to key manager\n",
    "```\n",
    "\n",
    "Configure a new SSH entry in the SSH config file `~/ssh/config`. Write the following:\n",
    "```bash\n",
    "Host [repo_alias_hostname] # E.g. github.com, or some alias, e.g. work.github.com, if you want to manage multiple accounts\n",
    "    HostName [repo_hostname] # Repo host name\n",
    "    User [username] # User name in the repository\n",
    "    PubKeyAuthentication yes\n",
    "    IdentityFile ~/.ssh/[key_name] # Key file generated above\n",
    "```"
   ]
  },
  {
   "cell_type": "markdown",
   "metadata": {},
   "source": [
    "## Breakdown\n",
    "\n",
    "1. There are several algorithms to generate the SSH keys. Check the references in your Git repository's key manager. The key generation steps can be found in any popular Git repository (Github, Gitlab...).\n",
    "2. The SSH config file is not necessary but it is very useful to handle multiple Git accounts.\n",
    "3. In the SSH config file, `HostName` can be an IP address if known, which will skip domain resolution, or a host name, which will trigger domain resolution. This may be resolved locally via `/etc/hosts` or require DNS queries."
   ]
  },
  {
   "cell_type": "markdown",
   "metadata": {},
   "source": [
    "## Resources\n",
    "\n",
    "- [Official Github documentation](https://docs.github.com/en/authentication/connecting-to-github-with-ssh/generating-a-new-ssh-key-and-adding-it-to-the-ssh-agent).\n",
    "- [Stackoverflow post](https://stackoverflow.com/questions/3225862/multiple-github-accounts-ssh-config) on how to configure SSH when working with several accounts."
   ]
  },
  {
   "cell_type": "markdown",
   "metadata": {},
   "source": []
  }
 ],
 "metadata": {
  "language_info": {
   "name": "python"
  }
 },
 "nbformat": 4,
 "nbformat_minor": 2
}
