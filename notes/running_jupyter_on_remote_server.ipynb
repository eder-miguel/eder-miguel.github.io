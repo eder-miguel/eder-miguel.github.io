{
 "cells": [
  {
   "cell_type": "markdown",
   "id": "fd672b68-375b-43dd-bd9c-7c055fffbd16",
   "metadata": {},
   "source": [
    "---\n",
    "title: \"Running Jupyter from a remote server\"\n",
    "description: \"How to run Jupyter on a remote server and access it locally\"\n",
    "categories: [\"notes\", \"jupyter\"]\n",
    "format:\n",
    "  html: \n",
    "    code-fold: true\n",
    "---"
   ]
  },
  {
   "cell_type": "markdown",
   "id": "3a733d61",
   "metadata": {},
   "source": [
    "## TL;DR\n",
    "\n",
    "SSH into the remote server and run Jupyter:\n",
    "```bash\n",
    "ssh [user@remote]\n",
    "jupyter lab --no-browser --port=[port_in_remote]\n",
    "```\n",
    "\n",
    "Note that the output of the last command should include a token. We will need it when accessing the remote server from the local machine (next step).\n",
    "\n",
    "On the local machine, create an SSH tunnel to forward the remote port to your local machine:\n",
    "```bash\n",
    "ssh -NfL localhost:[port_in_local]:localhost:[port_in_remote] [user@remote]\n",
    "```\n",
    "\n",
    "Finally, on your local browser, access `http://localhost:[port_in_local]`. The token produced in step one may be necessary to access the Jupyter server."
   ]
  },
  {
   "cell_type": "markdown",
   "id": "012c24d5",
   "metadata": {},
   "source": [
    "## Breakdown\n",
    "\n",
    "1. We run Jupyter in the remote machine using `--no-browser` so that no browser is opened in the remote machine.\n",
    "2. Any available port can be specified to avoid port collisions.\n",
    "3. The `-Nf` options for the SSH tunnel run the SSH session in the background (`-f`) without executing remote commands (`-N`).\n",
    "4. The item `localhost:[port_in_local]:localhost:[port_in_remote]` can be split in two parts. The first `localhost:[port_in_local]` specifies the local address (the address on the local machine where the port is being opened), in this case `localhost`, indicating that only the local machine can access that port, and the local port, `[port_in_local]`, where the tunnel will listen. The second `localhost:[port_in_remote]` indicates the address on the remote machine to connect to, here `localhost`, meaning that SSH will connect to a service running on the local machine, and `[port_in_remote]`, which specifies the port in the remote machine to which the tunnel connects.\n",
    "5. In order to access the remote Jupyter server, we access the local port of the SSH tunnel via `http://localhost:[port_in_local]`.\n"
   ]
  },
  {
   "cell_type": "markdown",
   "id": "b203ef1e",
   "metadata": {},
   "source": [
    "## Resources\n",
    "\n",
    "- [Stackoverflow](https://stackoverflow.com/questions/69244218/how-to-run-a-jupyter-notebook-through-a-remote-server-on-local-machine)\n",
    "- [Found in Hamel's blog](https://hamel.dev/notes/jupyter/Best%20Way%20To%20Launch%20Jupyter%20On%20A%20Remote%20Server.html)\n",
    "- [Similar instructions](https://fizzylogic.nl/2017/11/06/edit-jupyter-notebooks-over-ssh/) found in [Willem's Fizzy Logic](https://fizzylogic.nl/)\n",
    "- [A more advanced](https://dbusteed.github.io/setup-jupyter-lab-on-remote-server/) approach using HTTPS by [Davis Busteed](https://dbusteed.github.io/)"
   ]
  }
 ],
 "metadata": {
  "kernelspec": {
   "display_name": "Python [conda env:blog]",
   "language": "python",
   "name": "conda-env-blog-py"
  },
  "language_info": {
   "codemirror_mode": {
    "name": "ipython",
    "version": 3
   },
   "file_extension": ".py",
   "mimetype": "text/x-python",
   "name": "python",
   "nbconvert_exporter": "python",
   "pygments_lexer": "ipython3",
   "version": "3.13.0"
  }
 },
 "nbformat": 4,
 "nbformat_minor": 5
}
